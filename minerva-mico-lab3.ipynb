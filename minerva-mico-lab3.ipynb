{
 "cells": [
  {
   "cell_type": "markdown",
   "metadata": {},
   "source": [
    "193408\n",
    "Minerva\n",
    "2 BS ME"
   ]
  },
  {
   "cell_type": "markdown",
   "metadata": {},
   "source": [
    "<b>Problem 1</b>\n",
    "Social Media Example\n",
    "(6 Points)\n",
    " (Links to an external site.)\n",
    "In a prototype of a new in-campus mobile app, there is social media support similar to what's seen on Facebook, Instagram and Spotify. Students and Faculty belong to the same social graph. Any student or teacher can follow other members of the app community. If two members follow each other, they are considered friends.\n",
    "\n",
    "Write a function relationship_status(from_member, to_member) that determines if two members are friends, or if the first person follows or is followed by the second person. The function should return one of these:\n",
    "\n",
    "\"follower\" (type is str)\n",
    "\"followed by\"(type is str)\n",
    "None (type is None)"
   ]
  },
  {
   "cell_type": "code",
   "execution_count": 48,
   "metadata": {},
   "outputs": [
    {
     "name": "stdout",
     "output_type": "stream",
     "text": [
      "'friends'\n"
     ]
    }
   ],
   "source": [
    "# Given data set.\n",
    "\n",
    "social_graph = {\n",
    "    \"@bongolpoc\":{\"first_name\":\"Joselito\",\n",
    "                  \"last_name\":\"Olpoc\",\n",
    "                  \"following\":[\n",
    "                  ]\n",
    "    },\n",
    "    \"@joaquin\":  {\"first_name\":\"Joaquin\",\n",
    "                  \"last_name\":\"Gonzales\",\n",
    "                  \"following\":[\n",
    "                      \"@chums\",\"@jobenilagan\"\n",
    "                  ]\n",
    "    },\n",
    "    \"@chums\" : {\"first_name\":\"Matthew\",\n",
    "                \"last_name\":\"Uy\",\n",
    "                \"following\":[\n",
    "                    \"@bongolpoc\",\"@miketan\",\"@rudyang\",\"@joeilagan\"\n",
    "                ]\n",
    "    },\n",
    "    \"@jobenilagan\":{\"first_name\":\"Joben\",\n",
    "                   \"last_name\":\"Ilagan\",\n",
    "                   \"following\":[\n",
    "                    \"@eeebeee\",\"@joeilagan\",\"@chums\",\"@joaquin\"\n",
    "                   ]\n",
    "    },\n",
    "    \"@joeilagan\":{\"first_name\":\"Joe\",\n",
    "                  \"last_name\":\"Ilagan\",\n",
    "                  \"following\":[\n",
    "                    \"@eeebeee\",\"@jobenilagan\",\"@chums\"\n",
    "                  ]\n",
    "    },\n",
    "    \"@eeebeee\":  {\"first_name\":\"Elizabeth\",\n",
    "                  \"last_name\":\"Ilagan\",\n",
    "                  \"following\":[\n",
    "                    \"@jobenilagan\",\"@joeilagan\"\n",
    "                  ]\n",
    "    },\n",
    "}\n",
    "\n",
    "# Answer (function)\n",
    "\n",
    "def relationship_status(from_member, to_member):\n",
    "    following = from_member in social_graph[to_member][\"following\"]\n",
    "    followed_by = to_member in social_graph[from_member][\"following\"]\n",
    "    if following and followed_by : return \"'friends'\"\n",
    "    elif following: return \"'followed by'\"\n",
    "    elif followed_by: return \"'following'\"\n",
    "    else: return None\n",
    "    \n",
    "# Testing Sample\n",
    "print(relationship_status(\"@chums\",\"@joeilagan\"))"
   ]
  },
  {
   "cell_type": "markdown",
   "metadata": {},
   "source": [
    "<b>Problem 2</b>\n",
    "(6 Points)\n",
    "\n",
    "Write code that checks a possible winner for the current state of a 3x3 tic-tac-toe board.\n",
    "\n",
    "There are several strategies here:\n",
    "\n",
    "check if any symbol has all three slots in any row, column, or any of the two diagonals\n",
    "create a set for each row, column and diagonal; if the set count of 1 indicates a winner. (Why?)"
   ]
  },
  {
   "cell_type": "code",
   "execution_count": 49,
   "metadata": {},
   "outputs": [
    {
     "name": "stdout",
     "output_type": "stream",
     "text": [
      "X\n"
     ]
    }
   ],
   "source": [
    "# Given data sets.\n",
    "\n",
    "board1 = [\n",
    "['X','X','O'],\n",
    "['O','X','O'],\n",
    "['O','','X'],\n",
    "]\n",
    "\n",
    "board2 = [\n",
    "['X','X','O'],\n",
    "['O','X','O'],\n",
    "['','O','X'],\n",
    "]\n",
    "\n",
    "board3 = [\n",
    "['O','X','O'],\n",
    "['','O','X'],\n",
    "['X','X','O'],\n",
    "]\n",
    "\n",
    "board4 = [\n",
    "['X','X','X'],\n",
    "['O','X','O'],\n",
    "['O','','O'],\n",
    "]\n",
    "\n",
    "board5 = [\n",
    "['X','X','O'],\n",
    "['O','X','O'],\n",
    "['X','','O'],\n",
    "]\n",
    "\n",
    "board6 = [\n",
    "['X','X','O'],\n",
    "['O','X','O'],\n",
    "['X','',''],\n",
    "]\n",
    "\n",
    "# Answer (function)\n",
    "\n",
    "def get_winner(board):\n",
    "    def test_func(sample):                          # An inner function just for efficiency upon\n",
    "        if sample == 'X': winner = 'X'              #   determining winner through all the if/elifs.\n",
    "        elif sample == 'O': winner = 'O'\n",
    "        return winner\n",
    "        \n",
    "    # Diagonals\n",
    "    if board[0][0] == board[1][1] == board[2][2]:\n",
    "        return test_func(board[0][0])\n",
    "    elif board[2][0] == board[1][1] == board[0][2]:\n",
    "        return test_func(board[2][0])\n",
    "    \n",
    "    else:\n",
    "        for i in range(0,3):\n",
    "            # Rows\n",
    "            if board[i][0] == board[i][1] == board[i][2]:\n",
    "                return test_func(board[i][0])\n",
    "            # Columns\n",
    "            elif board[0][i] == board[1][i] == board[2][i]:\n",
    "                return test_func(board[0][i])\n",
    "\n",
    "# Testing Sample\n",
    "print(get_winner(board2))"
   ]
  },
  {
   "cell_type": "markdown",
   "metadata": {},
   "source": [
    "<b>Problem 3</b>\n",
    "(8 Points)\n",
    "\n",
    "During the pandemic, a shuttle van service is tasked to travel along a predefined circular route as follows:\n",
    "\n",
    "UP Diliman->Ateneo de Manila (Estimated Time: 10 mins)\n",
    "Ateneo de Manila->De La Salle Taft (Estimated Time: 35 mins)\n",
    "De La Salle Taft->UP Diliman (Estimated Time: 55 mins)\n",
    "The route is one-way only. So, the van cannot go back directly to UP Diliman from Ateneo de Manila; rather, it will have to drop by De La Salle Taft first before going to UP Diliman.\n",
    "\n",
    "Write a function called eta that accepts the source and destination of the van and returns the estimated number of minutes to reach the destination."
   ]
  },
  {
   "cell_type": "code",
   "execution_count": 81,
   "metadata": {},
   "outputs": [
    {
     "name": "stdout",
     "output_type": "stream",
     "text": [
      "90\n"
     ]
    }
   ],
   "source": [
    "# Given data set.\n",
    "\n",
    "locations = {\n",
    "    \"admu\":{\n",
    "        \"name\":\"Ateneo de Manila University\",\n",
    "        \"latitude\":14.6394557,\n",
    "        \"longitude\":121.0758975        \n",
    "    },\n",
    "    \"upd\":{\n",
    "        \"name\":\"University of the Philippines-Diliman Campus\",\n",
    "        \"latitude\":14.6538519,\n",
    "        \"longitude\":121.0663348\n",
    "    },\n",
    "    \"dlsu\":{\n",
    "        \"name\":\"De La Salle University-Taft\",\n",
    "        \"latitude\":14.5647346,\n",
    "        \"longitude\":120.9909876\n",
    "\n",
    "    }, # <-- Note that Python does not complain about this extra comma. This is perfectly okay.\n",
    "       #     The creators of Python saw that dictionaries tend to be changed a lot, so allowing this is a\n",
    "       #     convenience for developers who need to add elements when needed.\n",
    "}\n",
    "\n",
    "legs = {\n",
    "     (\"upd\",\"admu\"):{\n",
    "         \"travel_time_mins\":10\n",
    "     },\n",
    "     (\"admu\",\"dlsu\"):{\n",
    "         \"travel_time_mins\":35\n",
    "     },\n",
    "     (\"dlsu\",\"upd\"):{\n",
    "         \"travel_time_mins\":55\n",
    "     }\n",
    "}\n",
    "\n",
    "# Answer (function)\n",
    "\n",
    "def eta(source,destination):\n",
    "    keys = list(legs.keys())\n",
    "    if (source,destination) in keys:\n",
    "        return (legs[source,destination][\"travel_time_mins\"])\n",
    "    else:\n",
    "        for key in keys:\n",
    "            if source == key[0]:\n",
    "                one = (legs[key][\"travel_time_mins\"])\n",
    "            if destination in key[1]:\n",
    "                two = (legs[key][\"travel_time_mins\"])\n",
    "    return one + two\n",
    "\n",
    "# Testing Sample\n",
    "print(eta(\"admu\",\"upd\"))"
   ]
  }
 ],
 "metadata": {
  "kernelspec": {
   "display_name": "Python 3",
   "language": "python",
   "name": "python3"
  },
  "language_info": {
   "codemirror_mode": {
    "name": "ipython",
    "version": 3
   },
   "file_extension": ".py",
   "mimetype": "text/x-python",
   "name": "python",
   "nbconvert_exporter": "python",
   "pygments_lexer": "ipython3",
   "version": "3.7.6"
  }
 },
 "nbformat": 4,
 "nbformat_minor": 4
}
