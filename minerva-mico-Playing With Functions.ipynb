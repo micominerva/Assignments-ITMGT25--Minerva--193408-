{
 "cells": [
  {
   "cell_type": "markdown",
   "metadata": {},
   "source": [
    "## Playing With Functions"
   ]
  },
  {
   "cell_type": "markdown",
   "metadata": {},
   "source": [
    "These exercises are designed to strengthen your grasp on basic programming concepts. Read what is required of you carefully. For example, instructions to **return** values are not the same as those of **printing**.\n",
    "\n",
    "Make sure that cells are in **script mode** (not **interactive mode**).\n"
   ]
  },
  {
   "cell_type": "markdown",
   "metadata": {},
   "source": [
    "# 1\n",
    "### 1 point\n",
    "\n",
    "Write a function that takes the circumference of a circle as a parameter and **returns** the area of that circle.\n",
    "\n",
    "Note: Assume the value of pi is 3.1416"
   ]
  },
  {
   "cell_type": "code",
   "execution_count": null,
   "metadata": {},
   "outputs": [],
   "source": [
    "def area_circle(circumference):\n",
    "    pi = 3.1416\n",
    "    r = circumference / (2 * pi)\n",
    "    area = pi * (r * r)\n",
    "    return area"
   ]
  },
  {
   "cell_type": "markdown",
   "metadata": {},
   "source": [
    "# 2\n",
    "### 2 points\n",
    "\n",
    "Write a function that takes a 5-character string as a parameter and **returns** the string in reverse order.\n",
    "\n",
    "e.g. reverseString(\"Hello\") -> \"olleH\""
   ]
  },
  {
   "cell_type": "markdown",
   "metadata": {},
   "source": [
    "# 3\n",
    "### 2 points\n",
    "\n",
    "Write a function that takes a positive integer as input and **returns** the sum of all positive integers smaller than and including the number itself.\n",
    "\n",
    "e.g. backAddition(5) -> 1 + 2 + 3 + 4 + 5 -> 15"
   ]
  },
  {
   "cell_type": "code",
   "execution_count": 29,
   "metadata": {},
   "outputs": [],
   "source": [
    "# Number 2\n",
    "\n",
    "def reverse_five(word):\n",
    "    i = len(word) - 1\n",
    "    reverse = word[i]  # This will be our reversed word baselined with the last letter i.\n",
    "    while i > 0:\n",
    "        i -= 1\n",
    "        reverse += word[i]  # Concatenating the preceding letters into the reverse.\n",
    "    return reverse\n",
    "\n",
    "# Number 3\n",
    "\n",
    "def sum_positive_integers(x):\n",
    "    total = x    # The current value is our baseline for the sum.\n",
    "    while x > 0:\n",
    "        x -= 1\n",
    "        total += x\n",
    "    return total\n",
    "\n",
    "# The conditions for both While loops are > 0 and not >= 0 since I follow them up right away with a -1 incrementor."
   ]
  },
  {
   "cell_type": "markdown",
   "metadata": {},
   "source": [
    "# 4\n",
    "### 5 points (all or nothing)\n",
    "\n",
    "The sum of the squares of the first ten natural numbers is,\n",
    "12 + 22 + ... + 102 = 385\n",
    "\n",
    "The square of the sum of the first ten natural numbers is,\n",
    "(1 + 2 + ... + 10)2 = 552 = 3025\n",
    "\n",
    "Hence the difference between the sum of the squares of the first ten natural numbers and the square of the sum is 3025 − 385 = 2640.\n",
    "\n",
    "Find the difference between the sum of the squares of the first one hundred natural numbers and the square of the sum.\n",
    "\n",
    "Show code that generates the answer."
   ]
  },
  {
   "cell_type": "markdown",
   "metadata": {},
   "source": [
    "# 5\n",
    "### 5 points \n",
    "\n",
    "Write a function that allows a self-service Point of Sale system to give you the exact change when you pay in cash.\n",
    "\n",
    "The function should accept the number of cents entered by the caller of the function. It then should **display** the denominations of the coins that should be given to the buyer. The change should use as few coins as possible. Assume that the Point of Sale system is loaded with 1 cent, 5 cents, 10 cents, 25 cents and 1 peso coins.\n",
    "\n",
    "Write main program code that accepts the number of cents manually through user input and calls the function written above.\n",
    "\n",
    "**Input:** The program accepts one positive integer, ***cents***, corresponding to the total change to be given by the Point of Sale system.\n",
    "\n",
    "**Output:** The number of 1 peso, 25 cents, 10 cents, 5 cents and 1 cent coins respectively. There should be one output per line.\n",
    "\n",
    "**Sample Input 1:**  \n",
    "105\n",
    "\n",
    "**Sample Output 1**  \n",
    "1  \n",
    "0  \n",
    "0  \n",
    "1  \n",
    "0  \n",
    "\n",
    "**Sample Input 2:**  \n",
    "69  \n",
    "\n",
    "**Sample Output 2:**  \n",
    "0  \n",
    "2  \n",
    "1  \n",
    "1  \n",
    "4  \n",
    "\n",
    "\n"
   ]
  },
  {
   "cell_type": "code",
   "execution_count": null,
   "metadata": {},
   "outputs": [],
   "source": [
    "# Number 4\n",
    "\n",
    "x = 100\n",
    "sum_of_squares = 0    # No baseline value yet.\n",
    "while x > 0:\n",
    "    square = x * x\n",
    "    sum_of_squares += square\n",
    "    x -= 1\n",
    "\n",
    "x = 100\n",
    "total = x            # In this case, current value is the baseline, but -1 incrementor must be first in While loop.\n",
    "while x > 0:\n",
    "    x -= 1\n",
    "    total += x\n",
    "square_of_sum = total * total\n",
    "\n",
    "print(sum_of_squares - square_of_sum)\n",
    "\n",
    "\n",
    "# Number 5\n",
    "# Hi Sir, honestly I really took time in this one haha. At first, I had the if/else's for each coin's floor division but I-\n",
    "# -really didn't know how to remedy how the Return exp always exits the whole function. So I just went with bringing out lists and-\n",
    "# -appends already and also just applied the sep = \\n at the end to break the list apart. I hope this is okay, but would still wanna\n",
    "# -consult if there was a supposed ideal way for this! Thank you sir.\n",
    "\n",
    "def number_per_coin(cents):\n",
    "    coins = [100, 25, 10, 5, 1]              # Coin values.\n",
    "    counts = list()\n",
    "    for coin in coins:\n",
    "        if cents // coin >= 1:\n",
    "            counts.append(cents // coin)\n",
    "            cents = cents % coin             # The remaining change to be recycled.\n",
    "        else: counts.append('0')\n",
    "    return counts\n",
    "            \n",
    "cents = int(input())\n",
    "print(*number_per_coin(cents), sep = '\\n')\n"
   ]
  }
 ],
 "metadata": {
  "kernelspec": {
   "display_name": "Python 3",
   "language": "python",
   "name": "python3"
  },
  "language_info": {
   "codemirror_mode": {
    "name": "ipython",
    "version": 3
   },
   "file_extension": ".py",
   "mimetype": "text/x-python",
   "name": "python",
   "nbconvert_exporter": "python",
   "pygments_lexer": "ipython3",
   "version": "3.7.6"
  }
 },
 "nbformat": 4,
 "nbformat_minor": 2
}
