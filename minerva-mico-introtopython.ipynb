{
 "cells": [
  {
   "cell_type": "markdown",
   "metadata": {},
   "source": [
    "193408\n",
    "Minerva\n",
    "2 BS ME"
   ]
  },
  {
   "cell_type": "code",
   "execution_count": 1,
   "metadata": {},
   "outputs": [],
   "source": [
    "# Defining an average formula designed for three numbers.\n",
    "\n",
    "def three_number_average(first_number,second_number,third_number):\n",
    "    total = first_number + second_number + third_number\n",
    "    average = total / 3\n",
    "    return average"
   ]
  },
  {
   "cell_type": "code",
   "execution_count": 2,
   "metadata": {},
   "outputs": [
    {
     "name": "stdout",
     "output_type": "stream",
     "text": [
      "Enter first number: 1\n",
      "Enter second number: 2\n",
      "Enter third number: 3\n",
      "The average is 2.0\n"
     ]
    }
   ],
   "source": [
    "# Prompting for the three numbers.\n",
    "\n",
    "first_number = float(input(\"Enter first number: \"))\n",
    "second_number = float(input(\"Enter second number: \"))\n",
    "third_number = float(input(\"Enter third number: \"))\n",
    "\n",
    "# Displaying the average.\n",
    "\n",
    "print(\"The average is\",three_number_average(first_number,second_number,third_number))"
   ]
  }
 ],
 "metadata": {
  "kernelspec": {
   "display_name": "Python 3",
   "language": "python",
   "name": "python3"
  },
  "language_info": {
   "codemirror_mode": {
    "name": "ipython",
    "version": 3
   },
   "file_extension": ".py",
   "mimetype": "text/x-python",
   "name": "python",
   "nbconvert_exporter": "python",
   "pygments_lexer": "ipython3",
   "version": "3.7.6"
  }
 },
 "nbformat": 4,
 "nbformat_minor": 4
}
