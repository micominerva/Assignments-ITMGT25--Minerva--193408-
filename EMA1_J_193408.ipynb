{
 "cells": [
  {
   "cell_type": "markdown",
   "metadata": {},
   "source": [
    "In HTML and CSS, the class attribute denotes a particular style. Assume that two styles have\n",
    "already been defined for you:\n",
    "● lightyellowrow (light yellow row style)\n",
    "● whiterow (white row style)\n",
    "Write a program that asks for a number of rows in an HTML table and\n",
    "generates a table with alternating light yellow and white rows, starting with\n",
    "light yellow. The first column of the table (i.e. the first set of <td></td> enclosures)\n",
    "shows the row number. The second column displays the square of the row\n",
    "number. The starting row number is 1.\n",
    "Note: <table> </table> are begin and end tags respectively. Each row is enclosed by\n",
    "<tr> and </tr>. Each row has two details or columns as enclosed by <td> and </td>:\n",
    "the row number and the square of the row number.\n",
    "In an HTML browser, the final output might look something like this (for five rows):"
   ]
  },
  {
   "cell_type": "code",
   "execution_count": null,
   "metadata": {},
   "outputs": [],
   "source": [
    "rows = int(input(\"Enter number of rows: \"))\n",
    "print('<table>')\n",
    "for row in range(1,rows+1):\n",
    "    if row % 2 == 0:\n",
    "        color = '\"lightyellowrow\"'\n",
    "    else: color = '\"whiterow\"'\n",
    "    print('<tr class='+color+'><td>'+str(row)+'</td><td>'+str(row**2)+'</td></tr>')\n",
    "\n",
    "print('</table>')"
   ]
  },
  {
   "cell_type": "markdown",
   "metadata": {},
   "source": [
    "Write a program that takes in 3 numerical inputs: a day, a month, and a year. The output of\n",
    "the day should follow the ordinal indicator convention (ex. 1st, 2nd, 3rd, 4th,..., 11th, 12th,\n",
    "21st, 23rd and so on). If the date is valid (i.e proper month, proper number of days for that\n",
    "month, leap year) then output the day in the format:\n",
    "\n",
    "But if the date is not valid (e.g. putting more than 30 days in April, or giving a month greater\n",
    "than 12), print “Date is not valid”.\n",
    "Remember months have either 31 days and 30 days, except for February which has 28 days\n",
    "on non-leap years but has 29 days on leap years. Leap years are years that are divisible by\n",
    "4 but if they are divisible by 100 then it is only considered a leap year if it is divisible by 400."
   ]
  },
  {
   "cell_type": "code",
   "execution_count": 46,
   "metadata": {},
   "outputs": [
    {
     "name": "stdout",
     "output_type": "stream",
     "text": [
      "Day: 6\n",
      "Month: 12\n",
      "Year: 2020\n",
      "It is the 6th of the month of December of the year 2020\n"
     ]
    }
   ],
   "source": [
    "day = int(input('Day: '))\n",
    "month = int(input('Month: '))\n",
    "year = int(input('Year: '))\n",
    "\n",
    "months_list = ['January','February','March','April','May','June','July','August','September','October','November','December']\n",
    "\n",
    "if 1 <= month <= 12:\n",
    "    month = months_list[month-1]\n",
    "\n",
    "_st = [1,21,31]\n",
    "_nd = [2,22]\n",
    "_rd = [3,23]\n",
    "  \n",
    "if day in _st:\n",
    "    output = \"It is the \"+str(day)+\"st\"+\" of the month of \"+str(month)+\" of the year \"+str(year)\n",
    "elif day in _nd:\n",
    "    output = \"It is the \"+str(day)+\"nd\"+\" of the month of \"+str(month)+\" of the year \"+str(year)\n",
    "elif day in _rd:\n",
    "    output = \"It is the \"+str(day)+\"rd\"+\" of the month of \"+str(month)+\" of the year \"+str(year)\n",
    "elif 1 <= day <= 31: \n",
    "    output = \"It is the \"+str(day)+\"th\"+\" of the month of \"+str(month)+\" of the year \"+str(year)\n",
    "\n",
    "if not month in months_list: output = 'Date is not valid'\n",
    "if month in ['April','June','September','November']:\n",
    "    if day > 30: output = 'Date is not valid'\n",
    "elif month == 'February':\n",
    "    if year % 4 == 0:\n",
    "        if year % 100 == 0:\n",
    "            if not year % 400 == 0: \n",
    "                if day > 28: output = 'Date is not valid'\n",
    "        elif day > 29: output = 'Date is not valid'\n",
    "    else: \n",
    "        if day > 28: output = 'Date is not valid'\n",
    "else:\n",
    "    if day > 31: output = 'Date is not valid'\n",
    "    \n",
    "\n",
    "print(output)"
   ]
  },
  {
   "cell_type": "markdown",
   "metadata": {},
   "source": [
    "An obedient number is a positive integer that can be written as the sum of three\n",
    "consecutive positive integers. 15 (4+5+6) and 30 (9+10+11) are obedient numbers.\n",
    "Requirement: Create a function called ‘obedient’ that would identify whether a number is\n",
    "obedient or not. Display Boolean values for your program’s output."
   ]
  },
  {
   "cell_type": "code",
   "execution_count": 6,
   "metadata": {},
   "outputs": [
    {
     "name": "stdout",
     "output_type": "stream",
     "text": [
      "16\n",
      "False\n"
     ]
    }
   ],
   "source": [
    "def obedient(x):\n",
    "    # smallest possible Obedient Number == 6\n",
    "    if x >= 6:\n",
    "        # three consecutive integers always sum in multiples of 3\n",
    "        if x % 3 == 0:\n",
    "            return True\n",
    "        else: return False"
   ]
  },
  {
   "cell_type": "markdown",
   "metadata": {},
   "source": [
    "Multiplication table: The multiplication table summarizes the products of varying\n",
    "combinations of 2 natural numbers.\n",
    "Requirement: Create a function ‘multtable’ that accepts one required parameter size and\n",
    "prints out a size x size multiplication table (without the column and row labels)."
   ]
  },
  {
   "cell_type": "code",
   "execution_count": 18,
   "metadata": {},
   "outputs": [
    {
     "name": "stdout",
     "output_type": "stream",
     "text": [
      "7\n",
      "1\t2\t3\t4\t5\t6\t7\t\n",
      "2\t4\t6\t8\t10\t12\t14\t\n",
      "3\t6\t9\t12\t15\t18\t21\t\n",
      "4\t8\t12\t16\t20\t24\t28\t\n",
      "5\t10\t15\t20\t25\t30\t35\t\n",
      "6\t12\t18\t24\t30\t36\t42\t\n",
      "7\t14\t21\t28\t35\t42\t49\t\n",
      "None\n"
     ]
    }
   ],
   "source": [
    "size = int(input())\n",
    "\n",
    "def multtable(size):\n",
    "    for row in range(1,size+1):\n",
    "        i = 1\n",
    "        for x in range(1,size+1):\n",
    "            print(row*i, end = \"\\t\")\n",
    "            i += 1\n",
    "        print()"
   ]
  },
  {
   "cell_type": "markdown",
   "metadata": {},
   "source": [
    "Create a buzzfeed-style quiz called “What is your element?” The requirements of your\n",
    "program are as such:\n",
    "a. The program will prompt the user these 5 questions one at a time:\n",
    "Do you prefer (a) the mountains, (b) the city, or (c) the beach?\n",
    "Do you prefer (a) yoghurt, (b) ice cream, or (c) gelato?\n",
    "Do you prefer (a) reading, (b) singing, or (c) writing?\n",
    "Do you prefer (a) sweet, (b) salty, or (c) spicy food?\n",
    "Do you prefer (a) cats, (b) dogs, or (c) fish?\n",
    "b. If the user input is not either ‘a,’ ‘b’, or ‘c’ for any of the questions, print “Sorry, you\n",
    "inputted a wrong letter. Please start again.” then ask each of the questions again,\n",
    "starting from the first question.\n",
    "c. For each question, each response corresponds to an element. The possible\n",
    "equivalents are Fire, Water, and Earth. The corresponding element for each choice\n",
    "of each question is as follows:\n",
    "Q1: mountains = fire, city = earth, beach = water\n",
    "Q2: yoghurt = earth, ice cream = water, gelato = fire\n",
    "Q3: reading = water, singing = fire, writing = earth\n",
    "Q4: sweet = earth, salty = water, spicy = fire\n",
    "Q5: cats = earth, dogs = fire, fish = water\n",
    "d. For each question, a point is given to the corresponding element of the user’s\n",
    "choice. The element with the most number of points by the end of the quiz is the\n",
    "element of the user.\n",
    "e. If there are ties (for instance, 2 fire, 2 earth, 1 water), then employ the logic below to\n",
    "solve the tie.\n",
    "If there is a tie between fire and earth, earth would win\n",
    "If there is a tie between fire and water, fire would win\n",
    "If there is a tie between earth and water, water would win"
   ]
  },
  {
   "cell_type": "code",
   "execution_count": null,
   "metadata": {},
   "outputs": [],
   "source": [
    "while True:\n",
    "    one = input(\"Do you prefer (a) the mountains, (b) the city, or (c) the beach?\")\n",
    "    two = input(\"Do you prefer (a) yoghurt, (b) ice cream, or (c) gelato?\")\n",
    "    three = input(\"Do you prefer (a) reading, (b) singing, or (c) writing?\")\n",
    "    four = input(\"Do you prefer (a) sweet, (b) salty, or (c) spicy food?\")\n",
    "    five = input(\"Do you prefer (a) cats, (b) dogs, or (c) fish?\")\n",
    "\n",
    "    if not one in ['a','b','c']:\n",
    "        print('Sorry, you inputted a wrong letter. Please start again.')\n",
    "        continue\n",
    "    elif not two in ['a','b','c']:\n",
    "        print('Sorry, you inputted a wrong letter. Please start again.')\n",
    "        continue\n",
    "    elif not three in ['a','b','c']:\n",
    "        print('Sorry, you inputted a wrong letter. Please start again.')\n",
    "        continue\n",
    "    elif not four in ['a','b','c']:\n",
    "        print('Sorry, you inputted a wrong letter. Please start again.')\n",
    "        continue\n",
    "    elif not five in ['a','b','c']:\n",
    "        print('Sorry, you inputted a wrong letter. Please start again.')\n",
    "        continue\n",
    "    else: break\n",
    "\n",
    "water = 0\n",
    "fire = 0\n",
    "earth = 0\n",
    "\n",
    "if one == 'a':\n",
    "    fire += 1\n",
    "elif one == 'b':\n",
    "    earth += 1\n",
    "elif one == 'c':\n",
    "    water += 1\n",
    "\n",
    "if two == 'a':\n",
    "    earth += 1\n",
    "elif two == 'b':\n",
    "    water += 1\n",
    "elif two == 'c':\n",
    "    fire += 1\n",
    "\n",
    "if three == 'a':\n",
    "    water += 1\n",
    "elif three == 'b':\n",
    "    fire += 1\n",
    "elif three == 'c':\n",
    "    earth += 1\n",
    "\n",
    "if four == 'a':\n",
    "    earth += 1\n",
    "elif four == 'b':\n",
    "    water += 1\n",
    "elif four == 'c':\n",
    "    fire += 1\n",
    "\n",
    "if five == 'a':\n",
    "    earth += 1\n",
    "elif five == 'b':\n",
    "    fire += 1\n",
    "elif five == 'c':\n",
    "    water += 1\n",
    "\n",
    "if water > fire and water > earth:\n",
    "    element = 'Water'\n",
    "elif fire > water and fire > earth:\n",
    "    element = 'Fire'\n",
    "elif earth > water and earth > fire:\n",
    "    element = 'Earth'\n",
    "\n",
    "if water == fire:\n",
    "    element = 'Fire'\n",
    "elif water == earth:\n",
    "    element = 'Water'\n",
    "elif fire == earth:\n",
    "    element = 'Earth'\n",
    "\n",
    "print('Your element is',element)"
   ]
  }
 ],
 "metadata": {
  "kernelspec": {
   "display_name": "Python 3",
   "language": "python",
   "name": "python3"
  },
  "language_info": {
   "codemirror_mode": {
    "name": "ipython",
    "version": 3
   },
   "file_extension": ".py",
   "mimetype": "text/x-python",
   "name": "python",
   "nbconvert_exporter": "python",
   "pygments_lexer": "ipython3",
   "version": "3.7.6"
  }
 },
 "nbformat": 4,
 "nbformat_minor": 4
}
