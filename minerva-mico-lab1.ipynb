{
 "cells": [
  {
   "cell_type": "markdown",
   "metadata": {},
   "source": [
    "193408\n",
    "Minerva\n",
    "2 BS ME"
   ]
  },
  {
   "cell_type": "code",
   "execution_count": 1,
   "metadata": {},
   "outputs": [
    {
     "name": "stdout",
     "output_type": "stream",
     "text": [
      "Enter the amount in US Dollars: 20\n",
      "20.0 US dollar(s) = 1000.0 Philippine Pesos.\n"
     ]
    }
   ],
   "source": [
    "# Defining a conversion function strictly for USD to PHP.\n",
    "\n",
    "def dollars_to_pesos(usd):\n",
    "    php = usd  * 50\n",
    "    return php\n",
    "\n",
    "# Prompting for USD amount.\n",
    "\n",
    "usd = float(input('Enter the amount in US Dollars: '))\n",
    "php = dollars_to_pesos(usd)\n",
    "\n",
    "# Displaying a statement.\n",
    "\n",
    "print(usd,\"US dollar(s) =\",php,\"Philippine Pesos.\")"
   ]
  },
  {
   "cell_type": "code",
   "execution_count": 14,
   "metadata": {},
   "outputs": [
    {
     "name": "stdout",
     "output_type": "stream",
     "text": [
      "55\n",
      "3\n",
      "58\n",
      "52\n",
      "165\n",
      "18\n",
      "1\n"
     ]
    }
   ],
   "source": [
    "# Prompting for numbers.\n",
    "\n",
    "a = int(input())\n",
    "b = int(input())\n",
    "\n",
    "# Since this was simple, I tried a little error handling with if/else to fit the criteria of \"positive integers.\"\n",
    "# Perhaps a better one would have been a conditional statement that only above > 0 and then try/except actually.\n",
    "\n",
    "if a and b > 0:\n",
    "    # Displaying the output.\n",
    "\n",
    "    print(a+b)\n",
    "    print(a-b)\n",
    "    print(a*b)\n",
    "    print(a//b)\n",
    "    print(a%b)\n",
    "else: \n",
    "    print(\"Error: Positive Integers only.\")"
   ]
  },
  {
   "cell_type": "code",
   "execution_count": 15,
   "metadata": {},
   "outputs": [
    {
     "name": "stdout",
     "output_type": "stream",
     "text": [
      "Enter kg: 70\n",
      "Enter cm: 170\n",
      "BMI:  24.221453287197235\n"
     ]
    }
   ],
   "source": [
    "# Prompting for weight and height.\n",
    "\n",
    "kg = float(input(\"Enter kg: \"))\n",
    "cm = float(input(\"Enter cm: \"))\n",
    "\n",
    "# Defining the conversion formula.\n",
    "\n",
    "def compute_bmi(kg,cm):\n",
    "    m = cm / 100\n",
    "    bmi = kg / (m*m)\n",
    "    return bmi\n",
    "\n",
    "# Displaying the BMI.\n",
    "\n",
    "print(\"BMI: \",compute_bmi(kg,cm))"
   ]
  }
 ],
 "metadata": {
  "kernelspec": {
   "display_name": "Python 3",
   "language": "python",
   "name": "python3"
  },
  "language_info": {
   "codemirror_mode": {
    "name": "ipython",
    "version": 3
   },
   "file_extension": ".py",
   "mimetype": "text/x-python",
   "name": "python",
   "nbconvert_exporter": "python",
   "pygments_lexer": "ipython3",
   "version": "3.7.6"
  }
 },
 "nbformat": 4,
 "nbformat_minor": 4
}
